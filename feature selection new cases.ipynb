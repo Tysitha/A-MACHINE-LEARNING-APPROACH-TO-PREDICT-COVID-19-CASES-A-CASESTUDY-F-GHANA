{
 "cells": [
  {
   "cell_type": "code",
   "execution_count": 1,
   "id": "11a35d57",
   "metadata": {},
   "outputs": [],
   "source": [
    "import numpy as np\n",
    "import pandas as pd\n",
    "from sklearn.datasets import make_regression\n",
    "from sklearn.model_selection import train_test_split\n",
    "from sklearn.feature_selection import SelectKBest\n",
    "from sklearn.feature_selection import f_regression"
   ]
  },
  {
   "cell_type": "code",
   "execution_count": 2,
   "id": "01a8412a",
   "metadata": {},
   "outputs": [],
   "source": [
    "def select_features(X_train,Y_train,X_test):\n",
    "    fs = SelectKBest(score_func=f_regression,k='all')\n",
    "    fs.fit(X_train,Y_train)\n",
    "    X_train_fs= fs.transform(X_train)\n",
    "    X_test_fs= fs.transform(X_test)\n",
    "    return X_train_fs,X_test_fs,fs"
   ]
  },
  {
   "cell_type": "code",
   "execution_count": 3,
   "id": "ccd48981",
   "metadata": {},
   "outputs": [],
   "source": [
    "dataset = pd.read_csv(\"Final Ghana covid dataset.csv\")\n",
    "X = dataset.drop(['date','new_cases','new_deaths'], axis=1)\n",
    "Y = dataset.loc[:,['new_cases']]\n",
    "X_train, X_test, Y_train, Y_test = train_test_split(X, Y, test_size= 0.20, random_state=123) "
   ]
  },
  {
   "cell_type": "code",
   "execution_count": 4,
   "id": "c049684c",
   "metadata": {},
   "outputs": [
    {
     "name": "stderr",
     "output_type": "stream",
     "text": [
      "C:\\Users\\Ama Asantewaa\\anaconda3\\envs\\tf\\lib\\site-packages\\sklearn\\feature_selection\\_univariate_selection.py:294: RuntimeWarning: invalid value encountered in sqrt\n",
      "  X_norms = np.sqrt(row_norms(X.T, squared=True) -\n",
      "C:\\Users\\Ama Asantewaa\\anaconda3\\envs\\tf\\lib\\site-packages\\sklearn\\feature_selection\\_univariate_selection.py:301: RuntimeWarning: divide by zero encountered in true_divide\n",
      "  corr /= X_norms\n",
      "C:\\Users\\Ama Asantewaa\\anaconda3\\envs\\tf\\lib\\site-packages\\sklearn\\feature_selection\\_univariate_selection.py:301: RuntimeWarning: invalid value encountered in true_divide\n",
      "  corr /= X_norms\n",
      "C:\\Users\\Ama Asantewaa\\anaconda3\\envs\\tf\\lib\\site-packages\\sklearn\\feature_selection\\_univariate_selection.py:306: RuntimeWarning: invalid value encountered in true_divide\n",
      "  F = corr ** 2 / (1 - corr ** 2) * degrees_of_freedom\n"
     ]
    },
    {
     "data": {
      "text/plain": [
       "{'divide': 'warn', 'over': 'warn', 'under': 'ignore', 'invalid': 'warn'}"
      ]
     },
     "execution_count": 4,
     "metadata": {},
     "output_type": "execute_result"
    }
   ],
   "source": [
    "X_train_fs,X_test_fs,fs= select_features(X_train,Y_train.values.ravel(),X_test)\n",
    "np.seterr(divide='ignore',invalid='ignore')"
   ]
  },
  {
   "cell_type": "code",
   "execution_count": 5,
   "id": "b76b5e59",
   "metadata": {},
   "outputs": [
    {
     "name": "stdout",
     "output_type": "stream",
     "text": [
      "Feature 0: 0.399164\n",
      "Feature 1: 2.641042\n",
      "Feature 2: 0.000245\n",
      "Feature 3: 182.376787\n",
      "Feature 4: 4.803129\n",
      "Feature 5: 5.087476\n",
      "Feature 6: 1.568511\n",
      "Feature 7: 0.916943\n",
      "Feature 8: 3.366692\n",
      "Feature 9: nan\n",
      "Feature 10: nan\n",
      "Feature 11: 0.000000\n",
      "Feature 12: 0.000000\n",
      "Feature 13: 0.000000\n",
      "Feature 14: 0.000000\n",
      "Feature 15: nan\n",
      "Feature 16: 0.000000\n",
      "Feature 17: nan\n",
      "Feature 18: nan\n",
      "Feature 19: 0.000000\n",
      "Feature 20: nan\n",
      "Feature 21: 0.000000\n",
      "Feature 22: 0.000000\n",
      "Feature 23: nan\n",
      "Feature 24: nan\n"
     ]
    }
   ],
   "source": [
    "for i in range(len(fs.scores_)):\n",
    "    print('Feature %d: %f' %(i,fs.scores_[i]))"
   ]
  },
  {
   "cell_type": "code",
   "execution_count": 6,
   "id": "65cbff11",
   "metadata": {},
   "outputs": [
    {
     "data": {
      "text/html": [
       "<div>\n",
       "<style scoped>\n",
       "    .dataframe tbody tr th:only-of-type {\n",
       "        vertical-align: middle;\n",
       "    }\n",
       "\n",
       "    .dataframe tbody tr th {\n",
       "        vertical-align: top;\n",
       "    }\n",
       "\n",
       "    .dataframe thead th {\n",
       "        text-align: right;\n",
       "    }\n",
       "</style>\n",
       "<table border=\"1\" class=\"dataframe\">\n",
       "  <thead>\n",
       "    <tr style=\"text-align: right;\">\n",
       "      <th></th>\n",
       "      <th>total_cases</th>\n",
       "      <th>total_deaths</th>\n",
       "      <th>reproduction_rate</th>\n",
       "      <th>positive_rate</th>\n",
       "      <th>total_vaccinations</th>\n",
       "      <th>people_vaccinated</th>\n",
       "      <th>people_fully_vaccinated</th>\n",
       "      <th>new_vaccinations</th>\n",
       "      <th>stringency_index</th>\n",
       "      <th>population</th>\n",
       "      <th>...</th>\n",
       "      <th>extreme_poverty</th>\n",
       "      <th>cardiovasc_death_rate</th>\n",
       "      <th>diabetes_prevalence</th>\n",
       "      <th>female_smokers</th>\n",
       "      <th>male_smokers</th>\n",
       "      <th>handwashing_facilities</th>\n",
       "      <th>hospital_beds_per_thousand</th>\n",
       "      <th>life_expectancy</th>\n",
       "      <th>human_development_index</th>\n",
       "      <th>excess_mortality</th>\n",
       "    </tr>\n",
       "  </thead>\n",
       "  <tbody>\n",
       "    <tr>\n",
       "      <th>0</th>\n",
       "      <td>3.0</td>\n",
       "      <td>0.0</td>\n",
       "      <td>0.0</td>\n",
       "      <td>0.0</td>\n",
       "      <td>0.0</td>\n",
       "      <td>0.0</td>\n",
       "      <td>0.0</td>\n",
       "      <td>0.0</td>\n",
       "      <td>8.33</td>\n",
       "      <td>31072945.0</td>\n",
       "      <td>...</td>\n",
       "      <td>12.0</td>\n",
       "      <td>298.245</td>\n",
       "      <td>4.97</td>\n",
       "      <td>0.3</td>\n",
       "      <td>7.7</td>\n",
       "      <td>41.047</td>\n",
       "      <td>0.9</td>\n",
       "      <td>64.07</td>\n",
       "      <td>0.611</td>\n",
       "      <td>0.0</td>\n",
       "    </tr>\n",
       "    <tr>\n",
       "      <th>1</th>\n",
       "      <td>6.0</td>\n",
       "      <td>0.0</td>\n",
       "      <td>0.0</td>\n",
       "      <td>0.0</td>\n",
       "      <td>0.0</td>\n",
       "      <td>0.0</td>\n",
       "      <td>0.0</td>\n",
       "      <td>0.0</td>\n",
       "      <td>13.89</td>\n",
       "      <td>31072945.0</td>\n",
       "      <td>...</td>\n",
       "      <td>12.0</td>\n",
       "      <td>298.245</td>\n",
       "      <td>4.97</td>\n",
       "      <td>0.3</td>\n",
       "      <td>7.7</td>\n",
       "      <td>41.047</td>\n",
       "      <td>0.9</td>\n",
       "      <td>64.07</td>\n",
       "      <td>0.611</td>\n",
       "      <td>0.0</td>\n",
       "    </tr>\n",
       "    <tr>\n",
       "      <th>2</th>\n",
       "      <td>6.0</td>\n",
       "      <td>0.0</td>\n",
       "      <td>0.0</td>\n",
       "      <td>0.0</td>\n",
       "      <td>0.0</td>\n",
       "      <td>0.0</td>\n",
       "      <td>0.0</td>\n",
       "      <td>0.0</td>\n",
       "      <td>44.44</td>\n",
       "      <td>31072945.0</td>\n",
       "      <td>...</td>\n",
       "      <td>12.0</td>\n",
       "      <td>298.245</td>\n",
       "      <td>4.97</td>\n",
       "      <td>0.3</td>\n",
       "      <td>7.7</td>\n",
       "      <td>41.047</td>\n",
       "      <td>0.9</td>\n",
       "      <td>64.07</td>\n",
       "      <td>0.611</td>\n",
       "      <td>0.0</td>\n",
       "    </tr>\n",
       "  </tbody>\n",
       "</table>\n",
       "<p>3 rows × 25 columns</p>\n",
       "</div>"
      ],
      "text/plain": [
       "   total_cases  total_deaths  reproduction_rate  positive_rate  \\\n",
       "0          3.0           0.0                0.0            0.0   \n",
       "1          6.0           0.0                0.0            0.0   \n",
       "2          6.0           0.0                0.0            0.0   \n",
       "\n",
       "   total_vaccinations  people_vaccinated  people_fully_vaccinated  \\\n",
       "0                 0.0                0.0                      0.0   \n",
       "1                 0.0                0.0                      0.0   \n",
       "2                 0.0                0.0                      0.0   \n",
       "\n",
       "   new_vaccinations  stringency_index  population  ...  extreme_poverty  \\\n",
       "0               0.0              8.33  31072945.0  ...             12.0   \n",
       "1               0.0             13.89  31072945.0  ...             12.0   \n",
       "2               0.0             44.44  31072945.0  ...             12.0   \n",
       "\n",
       "   cardiovasc_death_rate  diabetes_prevalence  female_smokers  male_smokers  \\\n",
       "0                298.245                 4.97             0.3           7.7   \n",
       "1                298.245                 4.97             0.3           7.7   \n",
       "2                298.245                 4.97             0.3           7.7   \n",
       "\n",
       "   handwashing_facilities  hospital_beds_per_thousand  life_expectancy  \\\n",
       "0                  41.047                         0.9            64.07   \n",
       "1                  41.047                         0.9            64.07   \n",
       "2                  41.047                         0.9            64.07   \n",
       "\n",
       "   human_development_index  excess_mortality  \n",
       "0                    0.611               0.0  \n",
       "1                    0.611               0.0  \n",
       "2                    0.611               0.0  \n",
       "\n",
       "[3 rows x 25 columns]"
      ]
     },
     "execution_count": 6,
     "metadata": {},
     "output_type": "execute_result"
    }
   ],
   "source": [
    "X.head(3)"
   ]
  },
  {
   "cell_type": "code",
   "execution_count": 11,
   "id": "d14d3753",
   "metadata": {},
   "outputs": [],
   "source": [
    "df2=dataset.drop(['population','population_density',\n",
    " 'median_age', 'aged_65_older','aged_70_older','gdp_per_capita'\n",
    ",'extreme_poverty','cardiovasc_death_rate','diabetes_prevalence'\n",
    ",'female_smokers','male_smokers','handwashing_facilities'\n",
    ",'hospital_beds_per_thousand','life_expectancy','human_development_index'\n",
    ",'excess_mortality'], axis=1)\n"
   ]
  },
  {
   "cell_type": "code",
   "execution_count": 13,
   "id": "c13bfac4",
   "metadata": {},
   "outputs": [
    {
     "name": "stdout",
     "output_type": "stream",
     "text": [
      "['date' 'total_cases' 'new_cases' 'total_deaths' 'new_deaths'\n",
      " 'reproduction_rate' 'positive_rate' 'total_vaccinations'\n",
      " 'people_vaccinated' 'people_fully_vaccinated' 'new_vaccinations'\n",
      " 'stringency_index']\n"
     ]
    }
   ],
   "source": [
    "print(df2.columns.values)"
   ]
  },
  {
   "cell_type": "code",
   "execution_count": 14,
   "id": "524ff9f6",
   "metadata": {},
   "outputs": [],
   "source": [
    "df2.to_csv(\"new cases dataset.csv\",index=False)"
   ]
  }
 ],
 "metadata": {
  "kernelspec": {
   "display_name": "Python 3",
   "language": "python",
   "name": "python3"
  },
  "language_info": {
   "codemirror_mode": {
    "name": "ipython",
    "version": 3
   },
   "file_extension": ".py",
   "mimetype": "text/x-python",
   "name": "python",
   "nbconvert_exporter": "python",
   "pygments_lexer": "ipython3",
   "version": "3.8.8"
  }
 },
 "nbformat": 4,
 "nbformat_minor": 5
}
