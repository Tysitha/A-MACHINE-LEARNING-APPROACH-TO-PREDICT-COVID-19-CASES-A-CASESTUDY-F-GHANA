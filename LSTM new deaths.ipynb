{
 "cells": [
  {
   "cell_type": "code",
   "execution_count": 1,
   "id": "c7de4e4d",
   "metadata": {},
   "outputs": [
    {
     "data": {
      "text/html": [
       "<div>\n",
       "<style scoped>\n",
       "    .dataframe tbody tr th:only-of-type {\n",
       "        vertical-align: middle;\n",
       "    }\n",
       "\n",
       "    .dataframe tbody tr th {\n",
       "        vertical-align: top;\n",
       "    }\n",
       "\n",
       "    .dataframe thead th {\n",
       "        text-align: right;\n",
       "    }\n",
       "</style>\n",
       "<table border=\"1\" class=\"dataframe\">\n",
       "  <thead>\n",
       "    <tr style=\"text-align: right;\">\n",
       "      <th></th>\n",
       "      <th>new_deaths</th>\n",
       "      <th>positive_rate</th>\n",
       "    </tr>\n",
       "  </thead>\n",
       "  <tbody>\n",
       "    <tr>\n",
       "      <th>count</th>\n",
       "      <td>500.000000</td>\n",
       "      <td>500.000000</td>\n",
       "    </tr>\n",
       "    <tr>\n",
       "      <th>mean</th>\n",
       "      <td>1.646000</td>\n",
       "      <td>0.068814</td>\n",
       "    </tr>\n",
       "    <tr>\n",
       "      <th>std</th>\n",
       "      <td>3.354876</td>\n",
       "      <td>0.061634</td>\n",
       "    </tr>\n",
       "    <tr>\n",
       "      <th>min</th>\n",
       "      <td>0.000000</td>\n",
       "      <td>0.000000</td>\n",
       "    </tr>\n",
       "    <tr>\n",
       "      <th>25%</th>\n",
       "      <td>0.000000</td>\n",
       "      <td>0.023000</td>\n",
       "    </tr>\n",
       "    <tr>\n",
       "      <th>50%</th>\n",
       "      <td>0.000000</td>\n",
       "      <td>0.045000</td>\n",
       "    </tr>\n",
       "    <tr>\n",
       "      <th>75%</th>\n",
       "      <td>2.000000</td>\n",
       "      <td>0.100000</td>\n",
       "    </tr>\n",
       "    <tr>\n",
       "      <th>max</th>\n",
       "      <td>28.000000</td>\n",
       "      <td>0.319000</td>\n",
       "    </tr>\n",
       "  </tbody>\n",
       "</table>\n",
       "</div>"
      ],
      "text/plain": [
       "       new_deaths  positive_rate\n",
       "count  500.000000     500.000000\n",
       "mean     1.646000       0.068814\n",
       "std      3.354876       0.061634\n",
       "min      0.000000       0.000000\n",
       "25%      0.000000       0.023000\n",
       "50%      0.000000       0.045000\n",
       "75%      2.000000       0.100000\n",
       "max     28.000000       0.319000"
      ]
     },
     "execution_count": 1,
     "metadata": {},
     "output_type": "execute_result"
    }
   ],
   "source": [
    " import numpy as np\n",
    "import pandas as pd\n",
    "import matplotlib as mpl\n",
    "import tensorflow as tf\n",
    "import matplotlib.pyplot as plt\n",
    "from sklearn.model_selection import train_test_split\n",
    "from tensorflow.keras.preprocessing.sequence import TimeseriesGenerator as gen\n",
    "from sklearn.preprocessing import MinMaxScaler, StandardScaler\n",
    "\n",
    " "
   ]
  },
  {
   "cell_type": "code",
   "execution_count": 2,
   "id": "bc82f3f9",
   "metadata": {},
   "outputs": [],
   "source": [
    "dataset['date']=pd.to_datetime(dataset['date'], infer_datetime_format= True)\n",
    "df= dataset.loc[:,dataset.columns !='date']"
   ]
  },
  {
   "cell_type": "code",
   "execution_count": 3,
   "id": "8e21f4d8",
   "metadata": {},
   "outputs": [],
   "source": [
    "scaler= MinMaxScaler()\n",
    "\n",
    "dataScaled=scaler.fit_transform(df)"
   ]
  },
  {
   "cell_type": "code",
   "execution_count": 4,
   "id": "52cd2228",
   "metadata": {},
   "outputs": [],
   "source": [
    "features= dataScaled\n",
    "target= dataScaled[:,0]"
   ]
  },
  {
   "cell_type": "code",
   "execution_count": 5,
   "id": "3dd4c0b1",
   "metadata": {},
   "outputs": [],
   "source": [
    "X_train, X_test, Y_train, Y_test = train_test_split(features, target, test_size= 0.10, random_state=123, shuffle=False) "
   ]
  },
  {
   "cell_type": "code",
   "execution_count": 6,
   "id": "68530f45",
   "metadata": {},
   "outputs": [
    {
     "data": {
      "text/plain": [
       "(450, 2)"
      ]
     },
     "execution_count": 6,
     "metadata": {},
     "output_type": "execute_result"
    }
   ],
   "source": [
    "X_train.shape"
   ]
  },
  {
   "cell_type": "code",
   "execution_count": 7,
   "id": "01c5f85b",
   "metadata": {},
   "outputs": [],
   "source": [
    "win_length= 9\n",
    "batch_size= 1\n",
    "num_features= 2\n",
    "train_generator= gen(X_train,Y_train,length=win_length,sampling_rate=1, batch_size= batch_size)\n",
    "test_generator= gen(X_test,Y_test,length=win_length,sampling_rate=1, batch_size= batch_size)"
   ]
  },
  {
   "cell_type": "code",
   "execution_count": 8,
   "id": "32a8e5e2",
   "metadata": {},
   "outputs": [
    {
     "data": {
      "text/plain": [
       "(array([[[0.        , 0.        ],\n",
       "         [0.        , 0.        ],\n",
       "         [0.        , 0.        ],\n",
       "         [0.        , 0.        ],\n",
       "         [0.        , 0.        ],\n",
       "         [0.        , 0.        ],\n",
       "         [0.        , 0.        ],\n",
       "         [0.03571429, 0.        ],\n",
       "         [0.        , 0.        ]]]),\n",
       " array([0.03571429]))"
      ]
     },
     "execution_count": 8,
     "metadata": {},
     "output_type": "execute_result"
    }
   ],
   "source": [
    "train_generator[0]"
   ]
  },
  {
   "cell_type": "code",
   "execution_count": 9,
   "id": "675d11df",
   "metadata": {},
   "outputs": [],
   "source": [
    "model= tf.keras.Sequential()\n",
    "model.add(tf.keras.layers.LSTM(128,input_shape=(win_length,num_features),return_sequences=True))\n",
    "model.add(tf.keras.layers.LeakyReLU(alpha=0.5))\n",
    "model.add(tf.keras.layers.LSTM(128,return_sequences=True))\n",
    "model.add(tf.keras.layers.LeakyReLU(alpha=0.5))\n",
    "model.add(tf.keras.layers.Dropout(0.3))\n",
    "model.add(tf.keras.layers.LSTM(64,return_sequences=False))\n",
    "model.add(tf.keras.layers.Dropout(0.3))\n",
    "model.add(tf.keras.layers.Dense(1))"
   ]
  },
  {
   "cell_type": "code",
   "execution_count": 10,
   "id": "eb3b5d45",
   "metadata": {},
   "outputs": [
    {
     "name": "stdout",
     "output_type": "stream",
     "text": [
      "Model: \"sequential\"\n",
      "_________________________________________________________________\n",
      "Layer (type)                 Output Shape              Param #   \n",
      "=================================================================\n",
      "lstm (LSTM)                  (None, 9, 128)            67072     \n",
      "_________________________________________________________________\n",
      "leaky_re_lu (LeakyReLU)      (None, 9, 128)            0         \n",
      "_________________________________________________________________\n",
      "lstm_1 (LSTM)                (None, 9, 128)            131584    \n",
      "_________________________________________________________________\n",
      "leaky_re_lu_1 (LeakyReLU)    (None, 9, 128)            0         \n",
      "_________________________________________________________________\n",
      "dropout (Dropout)            (None, 9, 128)            0         \n",
      "_________________________________________________________________\n",
      "lstm_2 (LSTM)                (None, 64)                49408     \n",
      "_________________________________________________________________\n",
      "dropout_1 (Dropout)          (None, 64)                0         \n",
      "_________________________________________________________________\n",
      "dense (Dense)                (None, 1)                 65        \n",
      "=================================================================\n",
      "Total params: 248,129\n",
      "Trainable params: 248,129\n",
      "Non-trainable params: 0\n",
      "_________________________________________________________________\n"
     ]
    }
   ],
   "source": [
    "model.summary()"
   ]
  },
  {
   "cell_type": "code",
   "execution_count": 11,
   "id": "a3bb9b8a",
   "metadata": {},
   "outputs": [
    {
     "name": "stdout",
     "output_type": "stream",
     "text": [
      "Epoch 1/50\n",
      "441/441 [==============================] - 4s 9ms/step - loss: 0.0131 - mean_absolute_error: 0.0720 - val_loss: 0.0021 - val_mean_absolute_error: 0.0345\n",
      "Epoch 2/50\n",
      "441/441 [==============================] - 3s 7ms/step - loss: 0.0140 - mean_absolute_error: 0.0746 - val_loss: 0.0021 - val_mean_absolute_error: 0.0342\n",
      "Epoch 3/50\n",
      "441/441 [==============================] - 3s 7ms/step - loss: 0.0138 - mean_absolute_error: 0.0761 - val_loss: 0.0022 - val_mean_absolute_error: 0.0326\n"
     ]
    }
   ],
   "source": [
    "early_stopping= tf.keras.callbacks.EarlyStopping(monitor='val_loss',patience=2,mode='min')\n",
    "model.compile(loss=tf.losses.MeanSquaredError(),optimizer=tf.optimizers.Adam(),metrics=[tf.metrics.MeanAbsoluteError()])\n",
    "history=model.fit(train_generator,epochs=50,validation_data=test_generator,shuffle=False, callbacks=[early_stopping])\n"
   ]
  },
  {
   "cell_type": "code",
   "execution_count": 12,
   "id": "5b8a74fd",
   "metadata": {},
   "outputs": [
    {
     "name": "stdout",
     "output_type": "stream",
     "text": [
      "WARNING:tensorflow:From <ipython-input-12-a68ec1088d46>:1: Model.evaluate_generator (from tensorflow.python.keras.engine.training) is deprecated and will be removed in a future version.\n",
      "Instructions for updating:\n",
      "Please use Model.evaluate, which supports generators.\n"
     ]
    },
    {
     "data": {
      "text/plain": [
       "[0.0021617719903588295, 0.032570160925388336]"
      ]
     },
     "execution_count": 12,
     "metadata": {},
     "output_type": "execute_result"
    }
   ],
   "source": [
    "model.evaluate_generator(test_generator, verbose=0)"
   ]
  },
  {
   "cell_type": "code",
   "execution_count": 13,
   "id": "c01a9e12",
   "metadata": {},
   "outputs": [
    {
     "name": "stdout",
     "output_type": "stream",
     "text": [
      "WARNING:tensorflow:From <ipython-input-13-6ca49477046f>:1: Model.predict_generator (from tensorflow.python.keras.engine.training) is deprecated and will be removed in a future version.\n",
      "Instructions for updating:\n",
      "Please use Model.predict, which supports generators.\n"
     ]
    }
   ],
   "source": [
    "predictions=model.predict_generator(test_generator)"
   ]
  },
  {
   "cell_type": "code",
   "execution_count": 14,
   "id": "367a7d44",
   "metadata": {},
   "outputs": [
    {
     "data": {
      "text/plain": [
       "41"
      ]
     },
     "execution_count": 14,
     "metadata": {},
     "output_type": "execute_result"
    }
   ],
   "source": [
    "predictions.shape[0]"
   ]
  },
  {
   "cell_type": "code",
   "execution_count": 15,
   "id": "b0eb70b3",
   "metadata": {},
   "outputs": [
    {
     "data": {
      "text/plain": [
       "array([[0.01350585],\n",
       "       [0.01355905],\n",
       "       [0.01371242],\n",
       "       [0.01369872],\n",
       "       [0.01374606],\n",
       "       [0.01387627],\n",
       "       [0.01402533],\n",
       "       [0.01423327],\n",
       "       [0.01443554],\n",
       "       [0.01445935],\n",
       "       [0.01448725],\n",
       "       [0.01445687],\n",
       "       [0.01426499],\n",
       "       [0.01415347],\n",
       "       [0.014046  ],\n",
       "       [0.01389837],\n",
       "       [0.01390615],\n",
       "       [0.01408071],\n",
       "       [0.01432901],\n",
       "       [0.01471967],\n",
       "       [0.0151892 ],\n",
       "       [0.0155493 ],\n",
       "       [0.01589791],\n",
       "       [0.01623392],\n",
       "       [0.01638068],\n",
       "       [0.01660237],\n",
       "       [0.01681868],\n",
       "       [0.01696322],\n",
       "       [0.01710203],\n",
       "       [0.01727613],\n",
       "       [0.01748839],\n",
       "       [0.01755366],\n",
       "       [0.01745682],\n",
       "       [0.01733844],\n",
       "       [0.01695213],\n",
       "       [0.01628185],\n",
       "       [0.01554963],\n",
       "       [0.01463966],\n",
       "       [0.01388428],\n",
       "       [0.01289307],\n",
       "       [0.01212333]], dtype=float32)"
      ]
     },
     "execution_count": 15,
     "metadata": {},
     "output_type": "execute_result"
    }
   ],
   "source": [
    "predictions"
   ]
  },
  {
   "cell_type": "code",
   "execution_count": 16,
   "id": "8f5a6fe3",
   "metadata": {},
   "outputs": [
    {
     "data": {
      "text/plain": [
       "array([0.        , 0.        , 0.07142857, 0.        , 0.        ,\n",
       "       0.        , 0.        , 0.        , 0.03571429, 0.        ,\n",
       "       0.        , 0.10714286, 0.        , 0.        , 0.03571429,\n",
       "       0.        , 0.        , 0.        , 0.        , 0.        ,\n",
       "       0.03571429, 0.        , 0.        , 0.03571429, 0.        ,\n",
       "       0.        , 0.        , 0.        , 0.        , 0.        ,\n",
       "       0.03571429, 0.        , 0.        , 0.07142857, 0.07142857,\n",
       "       0.        , 0.03571429, 0.        , 0.14285714, 0.        ,\n",
       "       0.14285714, 0.07142857, 0.        , 0.10714286, 0.        ,\n",
       "       0.        , 0.14285714, 0.        , 0.07142857, 0.07142857])"
      ]
     },
     "execution_count": 16,
     "metadata": {},
     "output_type": "execute_result"
    }
   ],
   "source": [
    "Y_test"
   ]
  },
  {
   "cell_type": "code",
   "execution_count": 17,
   "id": "600bb4e1",
   "metadata": {},
   "outputs": [
    {
     "data": {
      "text/plain": [
       "array([[0.05642633],\n",
       "       [0.05642633],\n",
       "       [0.05642633],\n",
       "       [0.05329154],\n",
       "       [0.05329154],\n",
       "       [0.06896552],\n",
       "       [0.06269592],\n",
       "       [0.04702194],\n",
       "       [0.05015674],\n",
       "       [0.04075235],\n",
       "       [0.03761755],\n",
       "       [0.05015674],\n",
       "       [0.04702194],\n",
       "       [0.04388715],\n",
       "       [0.07523511],\n",
       "       [0.06896552],\n",
       "       [0.06896552],\n",
       "       [0.0846395 ],\n",
       "       [0.10031348],\n",
       "       [0.09717868],\n",
       "       [0.0815047 ],\n",
       "       [0.0815047 ],\n",
       "       [0.10971787],\n",
       "       [0.10658307],\n",
       "       [0.10658307],\n",
       "       [0.12225705],\n",
       "       [0.11285266],\n",
       "       [0.12539185],\n",
       "       [0.09404389],\n",
       "       [0.10344828],\n",
       "       [0.09717868],\n",
       "       [0.10971787],\n",
       "       [0.10344828],\n",
       "       [0.        ],\n",
       "       [0.        ],\n",
       "       [0.        ],\n",
       "       [0.        ],\n",
       "       [0.        ],\n",
       "       [0.        ],\n",
       "       [0.        ],\n",
       "       [0.        ]])"
      ]
     },
     "execution_count": 17,
     "metadata": {},
     "output_type": "execute_result"
    }
   ],
   "source": [
    "X_test[:,1:][win_length:]"
   ]
  },
  {
   "cell_type": "code",
   "execution_count": 18,
   "id": "80726f97",
   "metadata": {},
   "outputs": [],
   "source": [
    "df_pred=pd.concat([pd.DataFrame(predictions), pd.DataFrame(X_test[:,1:][win_length:])], axis=1)"
   ]
  },
  {
   "cell_type": "code",
   "execution_count": 19,
   "id": "0123bbd8",
   "metadata": {},
   "outputs": [
    {
     "data": {
      "text/plain": [
       "array([0.        , 0.        , 0.07142857, 0.        , 0.        ,\n",
       "       0.        , 0.        , 0.        , 0.03571429, 0.        ,\n",
       "       0.        , 0.10714286, 0.        , 0.        , 0.03571429,\n",
       "       0.        , 0.        , 0.        , 0.        , 0.        ,\n",
       "       0.03571429, 0.        , 0.        , 0.03571429, 0.        ,\n",
       "       0.        , 0.        , 0.        , 0.        , 0.        ,\n",
       "       0.03571429, 0.        , 0.        , 0.07142857, 0.07142857,\n",
       "       0.        , 0.03571429, 0.        , 0.14285714, 0.        ,\n",
       "       0.14285714, 0.07142857, 0.        , 0.10714286, 0.        ,\n",
       "       0.        , 0.14285714, 0.        , 0.07142857, 0.07142857])"
      ]
     },
     "execution_count": 19,
     "metadata": {},
     "output_type": "execute_result"
    }
   ],
   "source": [
    "Y_test"
   ]
  },
  {
   "cell_type": "code",
   "execution_count": 20,
   "id": "b18d124e",
   "metadata": {},
   "outputs": [],
   "source": [
    "df_pred= pd.concat([pd.DataFrame(predictions), pd.DataFrame(X_test[:,1:][win_length:])], axis=1)"
   ]
  },
  {
   "cell_type": "code",
   "execution_count": 21,
   "id": "ae427831",
   "metadata": {},
   "outputs": [],
   "source": [
    "rev_trans= scaler.inverse_transform(df_pred)"
   ]
  },
  {
   "cell_type": "code",
   "execution_count": 22,
   "id": "83520734",
   "metadata": {},
   "outputs": [
    {
     "data": {
      "text/plain": [
       "array([[0.3781638 , 0.018     ],\n",
       "       [0.37965342, 0.018     ],\n",
       "       [0.38394779, 0.018     ],\n",
       "       [0.38356414, 0.017     ],\n",
       "       [0.38488969, 0.017     ],\n",
       "       [0.38853557, 0.022     ],\n",
       "       [0.39270915, 0.02      ],\n",
       "       [0.39853163, 0.015     ],\n",
       "       [0.40419525, 0.016     ],\n",
       "       [0.40486167, 0.013     ],\n",
       "       [0.40564294, 0.012     ],\n",
       "       [0.40479241, 0.016     ],\n",
       "       [0.39941971, 0.015     ],\n",
       "       [0.39629704, 0.014     ],\n",
       "       [0.39328806, 0.024     ],\n",
       "       [0.38915423, 0.022     ],\n",
       "       [0.38937213, 0.022     ],\n",
       "       [0.39426   , 0.027     ],\n",
       "       [0.40121235, 0.032     ],\n",
       "       [0.41215083, 0.031     ],\n",
       "       [0.42529762, 0.026     ],\n",
       "       [0.43538035, 0.026     ],\n",
       "       [0.44514161, 0.035     ],\n",
       "       [0.45454979, 0.034     ],\n",
       "       [0.4586589 , 0.034     ],\n",
       "       [0.46486628, 0.039     ],\n",
       "       [0.47092293, 0.036     ],\n",
       "       [0.47497009, 0.04      ],\n",
       "       [0.47885671, 0.03      ],\n",
       "       [0.48373155, 0.033     ],\n",
       "       [0.48967503, 0.031     ],\n",
       "       [0.49150251, 0.035     ],\n",
       "       [0.48879102, 0.033     ],\n",
       "       [0.48547632, 0.        ],\n",
       "       [0.47465977, 0.        ],\n",
       "       [0.45589182, 0.        ],\n",
       "       [0.43538974, 0.        ],\n",
       "       [0.4099106 , 0.        ],\n",
       "       [0.38875994, 0.        ],\n",
       "       [0.36100605, 0.        ],\n",
       "       [0.33945328, 0.        ]])"
      ]
     },
     "execution_count": 22,
     "metadata": {},
     "output_type": "execute_result"
    }
   ],
   "source": [
    "rev_trans"
   ]
  },
  {
   "cell_type": "code",
   "execution_count": 23,
   "id": "5162a16f",
   "metadata": {},
   "outputs": [],
   "source": [
    "df_final = df[predictions.shape[0]*-1:]"
   ]
  },
  {
   "cell_type": "code",
   "execution_count": 24,
   "id": "0e7a68e1",
   "metadata": {},
   "outputs": [
    {
     "data": {
      "text/plain": [
       "new_deaths       41\n",
       "positive_rate    41\n",
       "dtype: int64"
      ]
     },
     "execution_count": 24,
     "metadata": {},
     "output_type": "execute_result"
    }
   ],
   "source": [
    "df_final.count()"
   ]
  },
  {
   "cell_type": "code",
   "execution_count": 25,
   "id": "5114f1e7",
   "metadata": {},
   "outputs": [
    {
     "name": "stderr",
     "output_type": "stream",
     "text": [
      "<ipython-input-25-558a1a35d4a0>:1: SettingWithCopyWarning: \n",
      "A value is trying to be set on a copy of a slice from a DataFrame.\n",
      "Try using .loc[row_indexer,col_indexer] = value instead\n",
      "\n",
      "See the caveats in the documentation: https://pandas.pydata.org/pandas-docs/stable/user_guide/indexing.html#returning-a-view-versus-a-copy\n",
      "  df_final['new_deaths_pred'] = rev_trans[:,0]\n"
     ]
    }
   ],
   "source": [
    "df_final['new_deaths_pred'] = rev_trans[:,0]"
   ]
  },
  {
   "cell_type": "code",
   "execution_count": 26,
   "id": "3b544005",
   "metadata": {},
   "outputs": [
    {
     "data": {
      "text/html": [
       "<div>\n",
       "<style scoped>\n",
       "    .dataframe tbody tr th:only-of-type {\n",
       "        vertical-align: middle;\n",
       "    }\n",
       "\n",
       "    .dataframe tbody tr th {\n",
       "        vertical-align: top;\n",
       "    }\n",
       "\n",
       "    .dataframe thead th {\n",
       "        text-align: right;\n",
       "    }\n",
       "</style>\n",
       "<table border=\"1\" class=\"dataframe\">\n",
       "  <thead>\n",
       "    <tr style=\"text-align: right;\">\n",
       "      <th></th>\n",
       "      <th>new_deaths</th>\n",
       "      <th>positive_rate</th>\n",
       "      <th>new_deaths_pred</th>\n",
       "    </tr>\n",
       "  </thead>\n",
       "  <tbody>\n",
       "    <tr>\n",
       "      <th>459</th>\n",
       "      <td>0.0</td>\n",
       "      <td>0.018</td>\n",
       "      <td>0.378164</td>\n",
       "    </tr>\n",
       "    <tr>\n",
       "      <th>460</th>\n",
       "      <td>0.0</td>\n",
       "      <td>0.018</td>\n",
       "      <td>0.379653</td>\n",
       "    </tr>\n",
       "    <tr>\n",
       "      <th>461</th>\n",
       "      <td>3.0</td>\n",
       "      <td>0.018</td>\n",
       "      <td>0.383948</td>\n",
       "    </tr>\n",
       "    <tr>\n",
       "      <th>462</th>\n",
       "      <td>0.0</td>\n",
       "      <td>0.017</td>\n",
       "      <td>0.383564</td>\n",
       "    </tr>\n",
       "    <tr>\n",
       "      <th>463</th>\n",
       "      <td>0.0</td>\n",
       "      <td>0.017</td>\n",
       "      <td>0.384890</td>\n",
       "    </tr>\n",
       "    <tr>\n",
       "      <th>464</th>\n",
       "      <td>1.0</td>\n",
       "      <td>0.022</td>\n",
       "      <td>0.388536</td>\n",
       "    </tr>\n",
       "    <tr>\n",
       "      <th>465</th>\n",
       "      <td>0.0</td>\n",
       "      <td>0.020</td>\n",
       "      <td>0.392709</td>\n",
       "    </tr>\n",
       "    <tr>\n",
       "      <th>466</th>\n",
       "      <td>0.0</td>\n",
       "      <td>0.015</td>\n",
       "      <td>0.398532</td>\n",
       "    </tr>\n",
       "    <tr>\n",
       "      <th>467</th>\n",
       "      <td>0.0</td>\n",
       "      <td>0.016</td>\n",
       "      <td>0.404195</td>\n",
       "    </tr>\n",
       "    <tr>\n",
       "      <th>468</th>\n",
       "      <td>0.0</td>\n",
       "      <td>0.013</td>\n",
       "      <td>0.404862</td>\n",
       "    </tr>\n",
       "    <tr>\n",
       "      <th>469</th>\n",
       "      <td>0.0</td>\n",
       "      <td>0.012</td>\n",
       "      <td>0.405643</td>\n",
       "    </tr>\n",
       "    <tr>\n",
       "      <th>470</th>\n",
       "      <td>1.0</td>\n",
       "      <td>0.016</td>\n",
       "      <td>0.404792</td>\n",
       "    </tr>\n",
       "    <tr>\n",
       "      <th>471</th>\n",
       "      <td>0.0</td>\n",
       "      <td>0.015</td>\n",
       "      <td>0.399420</td>\n",
       "    </tr>\n",
       "    <tr>\n",
       "      <th>472</th>\n",
       "      <td>0.0</td>\n",
       "      <td>0.014</td>\n",
       "      <td>0.396297</td>\n",
       "    </tr>\n",
       "    <tr>\n",
       "      <th>473</th>\n",
       "      <td>1.0</td>\n",
       "      <td>0.024</td>\n",
       "      <td>0.393288</td>\n",
       "    </tr>\n",
       "    <tr>\n",
       "      <th>474</th>\n",
       "      <td>0.0</td>\n",
       "      <td>0.022</td>\n",
       "      <td>0.389154</td>\n",
       "    </tr>\n",
       "    <tr>\n",
       "      <th>475</th>\n",
       "      <td>0.0</td>\n",
       "      <td>0.022</td>\n",
       "      <td>0.389372</td>\n",
       "    </tr>\n",
       "    <tr>\n",
       "      <th>476</th>\n",
       "      <td>0.0</td>\n",
       "      <td>0.027</td>\n",
       "      <td>0.394260</td>\n",
       "    </tr>\n",
       "    <tr>\n",
       "      <th>477</th>\n",
       "      <td>0.0</td>\n",
       "      <td>0.032</td>\n",
       "      <td>0.401212</td>\n",
       "    </tr>\n",
       "    <tr>\n",
       "      <th>478</th>\n",
       "      <td>0.0</td>\n",
       "      <td>0.031</td>\n",
       "      <td>0.412151</td>\n",
       "    </tr>\n",
       "    <tr>\n",
       "      <th>479</th>\n",
       "      <td>0.0</td>\n",
       "      <td>0.026</td>\n",
       "      <td>0.425298</td>\n",
       "    </tr>\n",
       "    <tr>\n",
       "      <th>480</th>\n",
       "      <td>1.0</td>\n",
       "      <td>0.026</td>\n",
       "      <td>0.435380</td>\n",
       "    </tr>\n",
       "    <tr>\n",
       "      <th>481</th>\n",
       "      <td>0.0</td>\n",
       "      <td>0.035</td>\n",
       "      <td>0.445142</td>\n",
       "    </tr>\n",
       "    <tr>\n",
       "      <th>482</th>\n",
       "      <td>0.0</td>\n",
       "      <td>0.034</td>\n",
       "      <td>0.454550</td>\n",
       "    </tr>\n",
       "    <tr>\n",
       "      <th>483</th>\n",
       "      <td>2.0</td>\n",
       "      <td>0.034</td>\n",
       "      <td>0.458659</td>\n",
       "    </tr>\n",
       "    <tr>\n",
       "      <th>484</th>\n",
       "      <td>2.0</td>\n",
       "      <td>0.039</td>\n",
       "      <td>0.464866</td>\n",
       "    </tr>\n",
       "    <tr>\n",
       "      <th>485</th>\n",
       "      <td>0.0</td>\n",
       "      <td>0.036</td>\n",
       "      <td>0.470923</td>\n",
       "    </tr>\n",
       "    <tr>\n",
       "      <th>486</th>\n",
       "      <td>1.0</td>\n",
       "      <td>0.040</td>\n",
       "      <td>0.474970</td>\n",
       "    </tr>\n",
       "    <tr>\n",
       "      <th>487</th>\n",
       "      <td>0.0</td>\n",
       "      <td>0.030</td>\n",
       "      <td>0.478857</td>\n",
       "    </tr>\n",
       "    <tr>\n",
       "      <th>488</th>\n",
       "      <td>4.0</td>\n",
       "      <td>0.033</td>\n",
       "      <td>0.483732</td>\n",
       "    </tr>\n",
       "    <tr>\n",
       "      <th>489</th>\n",
       "      <td>0.0</td>\n",
       "      <td>0.031</td>\n",
       "      <td>0.489675</td>\n",
       "    </tr>\n",
       "    <tr>\n",
       "      <th>490</th>\n",
       "      <td>4.0</td>\n",
       "      <td>0.035</td>\n",
       "      <td>0.491503</td>\n",
       "    </tr>\n",
       "    <tr>\n",
       "      <th>491</th>\n",
       "      <td>2.0</td>\n",
       "      <td>0.033</td>\n",
       "      <td>0.488791</td>\n",
       "    </tr>\n",
       "    <tr>\n",
       "      <th>492</th>\n",
       "      <td>0.0</td>\n",
       "      <td>0.000</td>\n",
       "      <td>0.485476</td>\n",
       "    </tr>\n",
       "    <tr>\n",
       "      <th>493</th>\n",
       "      <td>3.0</td>\n",
       "      <td>0.000</td>\n",
       "      <td>0.474660</td>\n",
       "    </tr>\n",
       "    <tr>\n",
       "      <th>494</th>\n",
       "      <td>0.0</td>\n",
       "      <td>0.000</td>\n",
       "      <td>0.455892</td>\n",
       "    </tr>\n",
       "    <tr>\n",
       "      <th>495</th>\n",
       "      <td>0.0</td>\n",
       "      <td>0.000</td>\n",
       "      <td>0.435390</td>\n",
       "    </tr>\n",
       "    <tr>\n",
       "      <th>496</th>\n",
       "      <td>4.0</td>\n",
       "      <td>0.000</td>\n",
       "      <td>0.409911</td>\n",
       "    </tr>\n",
       "    <tr>\n",
       "      <th>497</th>\n",
       "      <td>0.0</td>\n",
       "      <td>0.000</td>\n",
       "      <td>0.388760</td>\n",
       "    </tr>\n",
       "    <tr>\n",
       "      <th>498</th>\n",
       "      <td>2.0</td>\n",
       "      <td>0.000</td>\n",
       "      <td>0.361006</td>\n",
       "    </tr>\n",
       "    <tr>\n",
       "      <th>499</th>\n",
       "      <td>2.0</td>\n",
       "      <td>0.000</td>\n",
       "      <td>0.339453</td>\n",
       "    </tr>\n",
       "  </tbody>\n",
       "</table>\n",
       "</div>"
      ],
      "text/plain": [
       "     new_deaths  positive_rate  new_deaths_pred\n",
       "459         0.0          0.018         0.378164\n",
       "460         0.0          0.018         0.379653\n",
       "461         3.0          0.018         0.383948\n",
       "462         0.0          0.017         0.383564\n",
       "463         0.0          0.017         0.384890\n",
       "464         1.0          0.022         0.388536\n",
       "465         0.0          0.020         0.392709\n",
       "466         0.0          0.015         0.398532\n",
       "467         0.0          0.016         0.404195\n",
       "468         0.0          0.013         0.404862\n",
       "469         0.0          0.012         0.405643\n",
       "470         1.0          0.016         0.404792\n",
       "471         0.0          0.015         0.399420\n",
       "472         0.0          0.014         0.396297\n",
       "473         1.0          0.024         0.393288\n",
       "474         0.0          0.022         0.389154\n",
       "475         0.0          0.022         0.389372\n",
       "476         0.0          0.027         0.394260\n",
       "477         0.0          0.032         0.401212\n",
       "478         0.0          0.031         0.412151\n",
       "479         0.0          0.026         0.425298\n",
       "480         1.0          0.026         0.435380\n",
       "481         0.0          0.035         0.445142\n",
       "482         0.0          0.034         0.454550\n",
       "483         2.0          0.034         0.458659\n",
       "484         2.0          0.039         0.464866\n",
       "485         0.0          0.036         0.470923\n",
       "486         1.0          0.040         0.474970\n",
       "487         0.0          0.030         0.478857\n",
       "488         4.0          0.033         0.483732\n",
       "489         0.0          0.031         0.489675\n",
       "490         4.0          0.035         0.491503\n",
       "491         2.0          0.033         0.488791\n",
       "492         0.0          0.000         0.485476\n",
       "493         3.0          0.000         0.474660\n",
       "494         0.0          0.000         0.455892\n",
       "495         0.0          0.000         0.435390\n",
       "496         4.0          0.000         0.409911\n",
       "497         0.0          0.000         0.388760\n",
       "498         2.0          0.000         0.361006\n",
       "499         2.0          0.000         0.339453"
      ]
     },
     "execution_count": 26,
     "metadata": {},
     "output_type": "execute_result"
    }
   ],
   "source": [
    "df_final"
   ]
  },
  {
   "cell_type": "code",
   "execution_count": 27,
   "id": "3726c7f8",
   "metadata": {},
   "outputs": [
    {
     "name": "stdout",
     "output_type": "stream",
     "text": [
      "Mean absolute error of new deaths is: 0.9119645182679339\n"
     ]
    }
   ],
   "source": [
    "from sklearn.metrics import mean_absolute_error\n",
    "mae_new_deaths=mean_absolute_error(df_final['new_deaths'],df_final['new_deaths_pred'])\n",
    "print('Mean absolute error of new deaths is:',mae_new_deaths)"
   ]
  },
  {
   "cell_type": "code",
   "execution_count": 28,
   "id": "583b98fe",
   "metadata": {},
   "outputs": [
    {
     "name": "stdout",
     "output_type": "stream",
     "text": [
      "0.8048780487804879\n"
     ]
    }
   ],
   "source": [
    "import math \n",
    "from statistics import mean\n",
    "mean_new_deaths = mean(df_final['new_deaths'])\n",
    "print(mean_new_deaths)"
   ]
  },
  {
   "cell_type": "code",
   "execution_count": null,
   "id": "2255c6ed",
   "metadata": {},
   "outputs": [],
   "source": []
  }
 ],
 "metadata": {
  "kernelspec": {
   "display_name": "Python 3",
   "language": "python",
   "name": "python3"
  },
  "language_info": {
   "codemirror_mode": {
    "name": "ipython",
    "version": 3
   },
   "file_extension": ".py",
   "mimetype": "text/x-python",
   "name": "python",
   "nbconvert_exporter": "python",
   "pygments_lexer": "ipython3",
   "version": "3.8.8"
  }
 },
 "nbformat": 4,
 "nbformat_minor": 5
}
